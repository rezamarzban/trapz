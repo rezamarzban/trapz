{
  "nbformat": 4,
  "nbformat_minor": 0,
  "metadata": {
    "colab": {
      "provenance": [],
      "authorship_tag": "ABX9TyMYxWIatj33rChNGbpXiyUb",
      "include_colab_link": true
    },
    "kernelspec": {
      "name": "python3",
      "display_name": "Python 3"
    },
    "language_info": {
      "name": "python"
    }
  },
  "cells": [
    {
      "cell_type": "markdown",
      "metadata": {
        "id": "view-in-github",
        "colab_type": "text"
      },
      "source": [
        "<a href=\"https://colab.research.google.com/github/rezamarzban/trapz/blob/main/example.ipynb\" target=\"_parent\"><img src=\"https://colab.research.google.com/assets/colab-badge.svg\" alt=\"Open In Colab\"/></a>"
      ]
    },
    {
      "cell_type": "code",
      "execution_count": 1,
      "metadata": {
        "colab": {
          "base_uri": "https://localhost:8080/"
        },
        "id": "9CP3TamWv0Yy",
        "outputId": "3efcb998-e03d-4a2c-f031-7e857419a322"
      },
      "outputs": [
        {
          "output_type": "stream",
          "name": "stdout",
          "text": [
            "Writing trapz.py\n"
          ]
        }
      ],
      "source": [
        "%%writefile trapz.py\n",
        "\n",
        "# trapzV1.1\n",
        "\n",
        "import sys\n",
        "import math\n",
        "\n",
        "def trapz(expression, a, b, n):\n",
        "    dx = (b - a) / n\n",
        "    total = 0.5 * (eval(expression, {'x': a, 'exp': math.exp, 'sin': math.sin, 'cos': math.cos, 'tan': math.tan, 'cot': lambda x: 1 / math.tan(x), 'log': math.log, 'log10': math.log10, 'sqrt': math.sqrt}) + eval(expression, {'x': b, 'exp': math.exp, 'sin': math.sin, 'cos': math.cos, 'tan': math.tan, 'cot': lambda x: 1 / math.tan(x), 'log': math.log, 'log10': math.log10, 'sqrt': math.sqrt}))\n",
        "    for i in range(1, n):\n",
        "        x = a + i * dx\n",
        "        total += eval(expression, {'x': x, 'exp': math.exp, 'sin': math.sin, 'cos': math.cos, 'tan': math.tan, 'cot': lambda x: 1 / math.tan(x), 'log': math.log, 'log10': math.log10, 'sqrt': math.sqrt})\n",
        "    return total * dx\n",
        "\n",
        "if __name__ == \"__main__\":\n",
        "    if len(sys.argv) != 5:\n",
        "        print(\"Usage: python3 trapz.py <expression> <a> <b> <n>\")\n",
        "        sys.exit(1)\n",
        "\n",
        "    expression = sys.argv[1]\n",
        "    a = float(sys.argv[2])\n",
        "    b = float(sys.argv[3])\n",
        "    n = int(sys.argv[4])\n",
        "\n",
        "    result = trapz(expression, a, b, n)\n",
        "    print(\"Result:\", result)"
      ]
    },
    {
      "cell_type": "code",
      "source": [
        "!python3 trapz.py \"sin(x)*cos(x)*tan(x)*cot(x)*log(x)*log10(x)*sqrt(x)*exp(-1*x)*(x**(-1j*x))\" 1 10 1000"
      ],
      "metadata": {
        "colab": {
          "base_uri": "https://localhost:8080/"
        },
        "id": "MQAhY3KYwFsN",
        "outputId": "eeeeb37a-9641-4ef7-b879-d8fb19066c73"
      },
      "execution_count": 4,
      "outputs": [
        {
          "output_type": "stream",
          "name": "stdout",
          "text": [
            "Result: (0.019698888528855804+0.02538684749146926j)\n"
          ]
        }
      ]
    },
    {
      "cell_type": "code",
      "source": [
        "%%writefile quad.py\n",
        "\n",
        "# quadV1.0.0\n",
        "\n",
        "import numpy as np\n",
        "from scipy.integrate import quad\n",
        "import sympy as sp\n",
        "import sys\n",
        "\n",
        "# Read command line arguments\n",
        "expression = sys.argv[1]\n",
        "a = float(sys.argv[2])\n",
        "b = float(sys.argv[3])\n",
        "\n",
        "# Define the symbolic variable\n",
        "x = sp.Symbol('x')\n",
        "\n",
        "# Define the integrand as a sympy expression\n",
        "integrand = sp.sympify(expression)\n",
        "\n",
        "# Convert the sympy expression to a callable function\n",
        "f = sp.lambdify(x, integrand, 'numpy')\n",
        "\n",
        "# Perform numerical integration with complex data type\n",
        "result, error = quad(f, a, b, complex_func=True)\n",
        "\n",
        "print(\"Result:\", result)\n",
        "print(\"Estimated error:\", error)"
      ],
      "metadata": {
        "colab": {
          "base_uri": "https://localhost:8080/"
        },
        "id": "dsTehWTswVqb",
        "outputId": "bfd20f04-56ff-4e1a-e66f-9b4671390232"
      },
      "execution_count": 5,
      "outputs": [
        {
          "output_type": "stream",
          "name": "stdout",
          "text": [
            "Writing quad.py\n"
          ]
        }
      ]
    },
    {
      "cell_type": "code",
      "source": [
        "!python3 quad.py \"sin(x)*cos(x)*tan(x)*cot(x)*log(x)*log10(x)*sqrt(x)*exp(-1*x)*(x**(-1j*x))\" 1 10"
      ],
      "metadata": {
        "colab": {
          "base_uri": "https://localhost:8080/"
        },
        "id": "KP6z6myHwhFp",
        "outputId": "592e7e26-b0aa-4919-9445-a1deeafc3fe1"
      },
      "execution_count": 7,
      "outputs": [
        {
          "output_type": "stream",
          "name": "stdout",
          "text": [
            "Result: (0.019698885662413186+0.025386845750155256j)\n",
            "Estimated error: (2.047747178258747e-13+1.939627399361423e-13j)\n"
          ]
        }
      ]
    }
  ]
}